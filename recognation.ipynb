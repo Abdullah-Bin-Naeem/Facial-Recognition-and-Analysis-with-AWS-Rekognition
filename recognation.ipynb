{
 "cells": [
  {
   "cell_type": "code",
   "execution_count": 13,
   "metadata": {},
   "outputs": [
    {
     "name": "stdout",
     "output_type": "stream",
     "text": [
      "^C\n"
     ]
    }
   ],
   "source": [
    "!msiexec.exe /i https://awscli.amazonaws.com/AWSCLIV2.msi"
   ]
  },
  {
   "cell_type": "code",
   "execution_count": 3,
   "metadata": {},
   "outputs": [
    {
     "name": "stdout",
     "output_type": "stream",
     "text": [
      "aws-cli/2.22.6 Python/3.12.6 Windows/11 exe/AMD64\n"
     ]
    }
   ],
   "source": [
    "#!aws --version\n",
    "import os\n",
    "\n",
    "# Add AWS CLI to PATH\n",
    "os.environ[\"PATH\"] += r\"C:\\Program Files\\Amazon\\AWSCLIV2\"\n",
    "\n",
    "# Test if AWS CLI works\n",
    "!aws --version\n"
   ]
  },
  {
   "cell_type": "code",
   "execution_count": 2,
   "metadata": {},
   "outputs": [
    {
     "name": "stdout",
     "output_type": "stream",
     "text": [
      "^C\n"
     ]
    }
   ],
   "source": [
    "!aws configure\n"
   ]
  },
  {
   "cell_type": "markdown",
   "metadata": {},
   "source": [
    "# S3 Bucket Creation"
   ]
  },
  {
   "cell_type": "code",
   "execution_count": null,
   "metadata": {},
   "outputs": [],
   "source": [
    "#bucket creation\n",
    "!aws s3 mb s3://my-unique-images-bucket --region ap-south-1\n"
   ]
  },
  {
   "cell_type": "markdown",
   "metadata": {},
   "source": [
    "# Optional , uploading images to S3"
   ]
  },
  {
   "cell_type": "code",
   "execution_count": 5,
   "metadata": {},
   "outputs": [
    {
     "name": "stdout",
     "output_type": "stream",
     "text": [
      "Completed 256.0 KiB/7.1 MiB (120.5 KiB/s) with 4 file(s) remaining\n",
      "Completed 512.0 KiB/7.1 MiB (239.5 KiB/s) with 4 file(s) remaining\n",
      "Completed 768.0 KiB/7.1 MiB (343.4 KiB/s) with 4 file(s) remaining\n",
      "Completed 1.0 MiB/7.1 MiB (411.9 KiB/s) with 4 file(s) remaining  \n",
      "Completed 1.2 MiB/7.1 MiB (453.1 KiB/s) with 4 file(s) remaining  \n",
      "Completed 1.5 MiB/7.1 MiB (541.6 KiB/s) with 4 file(s) remaining  \n",
      "Completed 1.8 MiB/7.1 MiB (522.6 KiB/s) with 4 file(s) remaining  \n",
      "Completed 2.0 MiB/7.1 MiB (582.6 KiB/s) with 4 file(s) remaining  \n",
      "Completed 2.2 MiB/7.1 MiB (651.6 KiB/s) with 4 file(s) remaining  \n",
      "Completed 2.5 MiB/7.1 MiB (609.3 KiB/s) with 4 file(s) remaining  \n",
      "Completed 2.8 MiB/7.1 MiB (665.9 KiB/s) with 4 file(s) remaining  \n",
      "Completed 3.0 MiB/7.1 MiB (722.8 KiB/s) with 4 file(s) remaining  \n",
      "Completed 3.2 MiB/7.1 MiB (721.1 KiB/s) with 4 file(s) remaining  \n",
      "Completed 3.5 MiB/7.1 MiB (732.7 KiB/s) with 4 file(s) remaining  \n",
      "Completed 3.8 MiB/7.1 MiB (781.1 KiB/s) with 4 file(s) remaining  \n",
      "Completed 3.8 MiB/7.1 MiB (715.0 KiB/s) with 4 file(s) remaining  \n",
      "upload: ..\\..\\..\\Users\\abdul\\Downloads\\recok\\IMG_1144.jpeg to s3://my-unique-images-bucket/IMG_1144.jpeg\n",
      "Completed 3.8 MiB/7.1 MiB (715.0 KiB/s) with 3 file(s) remaining\n",
      "Completed 4.1 MiB/7.1 MiB (747.6 KiB/s) with 3 file(s) remaining\n",
      "Completed 4.3 MiB/7.1 MiB (755.9 KiB/s) with 3 file(s) remaining\n",
      "Completed 4.6 MiB/7.1 MiB (779.8 KiB/s) with 3 file(s) remaining\n",
      "Completed 4.8 MiB/7.1 MiB (788.2 KiB/s) with 3 file(s) remaining\n",
      "Completed 5.1 MiB/7.1 MiB (747.3 KiB/s) with 3 file(s) remaining\n",
      "Completed 5.3 MiB/7.1 MiB (758.3 KiB/s) with 3 file(s) remaining\n",
      "Completed 5.5 MiB/7.1 MiB (734.9 KiB/s) with 3 file(s) remaining\n",
      "upload: ..\\..\\..\\Users\\abdul\\Downloads\\recok\\IMG_1126.jpeg to s3://my-unique-images-bucket/IMG_1126.jpeg\n",
      "Completed 5.5 MiB/7.1 MiB (734.9 KiB/s) with 2 file(s) remaining\n",
      "Completed 5.8 MiB/7.1 MiB (760.6 KiB/s) with 2 file(s) remaining\n",
      "Completed 6.0 MiB/7.1 MiB (703.8 KiB/s) with 2 file(s) remaining\n",
      "Completed 6.3 MiB/7.1 MiB (638.2 KiB/s) with 2 file(s) remaining\n",
      "Completed 6.5 MiB/7.1 MiB (588.6 KiB/s) with 2 file(s) remaining\n",
      "Completed 6.7 MiB/7.1 MiB (552.0 KiB/s) with 2 file(s) remaining\n",
      "upload: ..\\..\\..\\Users\\abdul\\Downloads\\recok\\IMG_1612.jpeg to s3://my-unique-images-bucket/IMG_1612.jpeg\n",
      "Completed 6.7 MiB/7.1 MiB (552.0 KiB/s) with 1 file(s) remaining\n",
      "Completed 6.9 MiB/7.1 MiB (513.0 KiB/s) with 1 file(s) remaining\n",
      "Completed 7.1 MiB/7.1 MiB (468.1 KiB/s) with 1 file(s) remaining\n",
      "upload: ..\\..\\..\\Users\\abdul\\Downloads\\recok\\IMG_1347.jpeg to s3://my-unique-images-bucket/IMG_1347.jpeg\n"
     ]
    }
   ],
   "source": [
    "!aws s3 cp C:\\Users\\abdul\\Downloads\\recok s3://my-unique-images-bucket/ --recursive --region ap-south-1\n"
   ]
  },
  {
   "cell_type": "code",
   "execution_count": 7,
   "metadata": {},
   "outputs": [
    {
     "name": "stdout",
     "output_type": "stream",
     "text": [
      "2024-11-27 04:46:32    2304998 IMG_1126.jpeg\n",
      "2024-11-27 04:46:32    1411157 IMG_1144.jpeg\n",
      "2024-11-27 04:46:32    2233262 IMG_1347.jpeg\n",
      "2024-11-27 04:46:32    1468977 IMG_1612.jpeg\n",
      "2024-11-24 21:11:00    3594372 img1.jpeg\n",
      "2024-11-24 21:11:01     292110 img2.jpeg\n"
     ]
    }
   ],
   "source": [
    "!aws s3 ls s3://my-unique-images-bucket/ --region ap-south-1\n"
   ]
  },
  {
   "cell_type": "markdown",
   "metadata": {},
   "source": [
    "# Making a face collection"
   ]
  },
  {
   "cell_type": "code",
   "execution_count": 8,
   "metadata": {},
   "outputs": [
    {
     "name": "stderr",
     "output_type": "stream",
     "text": [
      "\n",
      "An error occurred (ResourceAlreadyExistsException) when calling the CreateCollection operation: The collection id: my-face-collection already exists\n"
     ]
    }
   ],
   "source": [
    "!aws rekognition create-collection --collection-id my-face-collection --region ap-south-1\n"
   ]
  },
  {
   "cell_type": "code",
   "execution_count": null,
   "metadata": {},
   "outputs": [],
   "source": []
  },
  {
   "cell_type": "markdown",
   "metadata": {},
   "source": [
    "# Leave bellow cells, if you want to test them you can but to easilt run the app, ignore them"
   ]
  },
  {
   "cell_type": "code",
   "execution_count": null,
   "metadata": {},
   "outputs": [
    {
     "name": "stdout",
     "output_type": "stream",
     "text": [
      "{\n",
      "    \"FaceRecords\": [\n",
      "        {\n",
      "            \"Face\": {\n",
      "                \"FaceId\": \"39ecb1a5-2277-4584-9d1f-27db063ddbb3\",\n",
      "                \"BoundingBox\": {\n",
      "                    \"Width\": 0.44636979699134827,\n",
      "                    \"Height\": 0.3998507559299469,\n",
      "                    \"Left\": 0.3670794367790222,\n",
      "                    \"Top\": 0.13258247077465057\n",
      "                },\n",
      "                \"ImageId\": \"0acda2cf-8063-30f0-901f-fa5024a57fb1\",\n",
      "                \"ExternalImageId\": \"EeshaKhan1\",\n",
      "                \"Confidence\": 99.99993133544922\n",
      "            },\n",
      "            \"FaceDetail\": {\n",
      "                \"BoundingBox\": {\n",
      "                    \"Width\": 0.44636979699134827,\n",
      "                    \"Height\": 0.3998507559299469,\n",
      "                    \"Left\": 0.3670794367790222,\n",
      "                    \"Top\": 0.13258247077465057\n",
      "                },\n",
      "                \"Landmarks\": [\n",
      "                    {\n",
      "                        \"Type\": \"eyeLeft\",\n",
      "                        \"X\": 0.5563026666641235,\n",
      "                        \"Y\": 0.27136629819869995\n",
      "                    },\n",
      "                    {\n",
      "                        \"Type\": \"eyeRight\",\n",
      "                        \"X\": 0.7020573616027832,\n",
      "                        \"Y\": 0.330326110124588\n",
      "                    },\n",
      "                    {\n",
      "                        \"Type\": \"mouthLeft\",\n",
      "                        \"X\": 0.48328015208244324,\n",
      "                        \"Y\": 0.4045487344264984\n",
      "                    },\n",
      "                    {\n",
      "                        \"Type\": \"mouthRight\",\n",
      "                        \"X\": 0.60500568151474,\n",
      "                        \"Y\": 0.4529782235622406\n",
      "                    },\n",
      "                    {\n",
      "                        \"Type\": \"nose\",\n",
      "                        \"X\": 0.6257889270782471,\n",
      "                        \"Y\": 0.3858109712600708\n",
      "                    }\n",
      "                ],\n",
      "                \"Pose\": {\n",
      "                    \"Roll\": 29.08953857421875,\n",
      "                    \"Yaw\": 19.107337951660156,\n",
      "                    \"Pitch\": -0.2594146728515625\n",
      "                },\n",
      "                \"Quality\": {\n",
      "                    \"Brightness\": 83.21395874023438,\n",
      "                    \"Sharpness\": 95.51618957519531\n",
      "                },\n",
      "                \"Confidence\": 99.99993133544922\n",
      "            }\n",
      "        }\n",
      "    ],\n",
      "    \"FaceModelVersion\": \"7.0\",\n",
      "    \"UnindexedFaces\": []\n",
      "}\n"
     ]
    }
   ],
   "source": [
    "!aws rekognition index-faces --collection-id my-face-collection --image \"S3Object={Bucket=my-unique-images-bucket,Name=IMG_1144.jpeg}\" --external-image-id \"Abdullah\" --region ap-south-1\n"
   ]
  },
  {
   "cell_type": "code",
   "execution_count": 10,
   "metadata": {},
   "outputs": [
    {
     "name": "stdout",
     "output_type": "stream",
     "text": [
      "{\n",
      "    \"SearchedFaceBoundingBox\": {\n",
      "        \"Width\": 0.44636979699134827,\n",
      "        \"Height\": 0.3998507559299469,\n",
      "        \"Left\": 0.3670794367790222,\n",
      "        \"Top\": 0.13258247077465057\n",
      "    },\n",
      "    \"SearchedFaceConfidence\": 99.99993133544922,\n",
      "    \"FaceMatches\": [\n",
      "        {\n",
      "            \"Similarity\": 100.0,\n",
      "            \"Face\": {\n",
      "                \"FaceId\": \"39ecb1a5-2277-4584-9d1f-27db063ddbb3\",\n",
      "                \"BoundingBox\": {\n",
      "                    \"Width\": 0.446370005607605,\n",
      "                    \"Height\": 0.399850994348526,\n",
      "                    \"Left\": 0.3670789897441864,\n",
      "                    \"Top\": 0.13258199393749237\n",
      "                },\n",
      "                \"ImageId\": \"0acda2cf-8063-30f0-901f-fa5024a57fb1\",\n",
      "                \"ExternalImageId\": \"EeshaKhan1\",\n",
      "                \"Confidence\": 99.9999008178711,\n",
      "                \"IndexFacesModelVersion\": \"7.0\"\n",
      "            }\n",
      "        },\n",
      "        {\n",
      "            \"Similarity\": 99.99620056152344,\n",
      "            \"Face\": {\n",
      "                \"FaceId\": \"68b5a26d-47c7-4ad6-b2fe-5273795d6d89\",\n",
      "                \"BoundingBox\": {\n",
      "                    \"Width\": 0.13711300492286682,\n",
      "                    \"Height\": 0.12834499776363373,\n",
      "                    \"Left\": 0.4212999939918518,\n",
      "                    \"Top\": 0.11864600330591202\n",
      "                },\n",
      "                \"ImageId\": \"082ef947-3638-3162-9b29-14faf46f7187\",\n",
      "                \"ExternalImageId\": \"EeshaKhan1\",\n",
      "                \"Confidence\": 99.99859619140625,\n",
      "                \"IndexFacesModelVersion\": \"7.0\"\n",
      "            }\n",
      "        }\n",
      "    ],\n",
      "    \"FaceModelVersion\": \"7.0\"\n",
      "}\n"
     ]
    }
   ],
   "source": [
    "#recog\n",
    "!aws rekognition search-faces-by-image --collection-id my-face-collection --image \"S3Object={Bucket=my-unique-images-bucket,Name=IMG_1126.jpeg}\" --region ap-south-1\n"
   ]
  },
  {
   "cell_type": "code",
   "execution_count": 19,
   "metadata": {},
   "outputs": [
    {
     "name": "stdout",
     "output_type": "stream",
     "text": [
      "{\n",
      "    \"FaceDetails\": [\n",
      "        {\n",
      "            \"BoundingBox\": {\n",
      "                \"Width\": 0.44636979699134827,\n",
      "                \"Height\": 0.3998507559299469,\n",
      "                \"Left\": 0.3670794367790222,\n",
      "                \"Top\": 0.13258247077465057\n",
      "            },\n",
      "            \"AgeRange\": {\n",
      "                \"Low\": 19,\n",
      "                \"High\": 25\n",
      "            },\n",
      "            \"Smile\": {\n",
      "                \"Value\": false,\n",
      "                \"Confidence\": 99.6411361694336\n",
      "            },\n",
      "            \"Eyeglasses\": {\n",
      "                \"Value\": false,\n",
      "                \"Confidence\": 92.6183853149414\n",
      "            },\n",
      "            \"Sunglasses\": {\n",
      "                \"Value\": false,\n",
      "                \"Confidence\": 95.58795928955078\n",
      "            },\n",
      "            \"Gender\": {\n",
      "                \"Value\": \"Female\",\n",
      "                \"Confidence\": 99.91934967041016\n",
      "            },\n",
      "            \"Beard\": {\n",
      "                \"Value\": false,\n",
      "                \"Confidence\": 97.70762634277344\n",
      "            },\n",
      "            \"Mustache\": {\n",
      "                \"Value\": false,\n",
      "                \"Confidence\": 99.63286590576172\n",
      "            },\n",
      "            \"EyesOpen\": {\n",
      "                \"Value\": true,\n",
      "                \"Confidence\": 99.95702362060547\n",
      "            },\n",
      "            \"MouthOpen\": {\n",
      "                \"Value\": false,\n",
      "                \"Confidence\": 98.62397766113281\n",
      "            },\n",
      "            \"Emotions\": [\n",
      "                {\n",
      "                    \"Type\": \"CALM\",\n",
      "                    \"Confidence\": 99.58147430419922\n",
      "                },\n",
      "                {\n",
      "                    \"Type\": \"SAD\",\n",
      "                    \"Confidence\": 0.14925003051757812\n",
      "                },\n",
      "                {\n",
      "                    \"Type\": \"ANGRY\",\n",
      "                    \"Confidence\": 0.10223388671875\n",
      "                },\n",
      "                {\n",
      "                    \"Type\": \"CONFUSED\",\n",
      "                    \"Confidence\": 0.02187490463256836\n",
      "                },\n",
      "                {\n",
      "                    \"Type\": \"DISGUSTED\",\n",
      "                    \"Confidence\": 0.012791156768798828\n",
      "                },\n",
      "                {\n",
      "                    \"Type\": \"HAPPY\",\n",
      "                    \"Confidence\": 0.008893013000488281\n",
      "                },\n",
      "                {\n",
      "                    \"Type\": \"SURPRISED\",\n",
      "                    \"Confidence\": 0.0025704503059387207\n",
      "                },\n",
      "                {\n",
      "                    \"Type\": \"FEAR\",\n",
      "                    \"Confidence\": 0.0005543231964111328\n",
      "                }\n",
      "            ],\n",
      "            \"Landmarks\": [\n",
      "                {\n",
      "                    \"Type\": \"eyeLeft\",\n",
      "                    \"X\": 0.5563026666641235,\n",
      "                    \"Y\": 0.27136629819869995\n",
      "                },\n",
      "                {\n",
      "                    \"Type\": \"eyeRight\",\n",
      "                    \"X\": 0.7020573616027832,\n",
      "                    \"Y\": 0.330326110124588\n",
      "                },\n",
      "                {\n",
      "                    \"Type\": \"mouthLeft\",\n",
      "                    \"X\": 0.48328015208244324,\n",
      "                    \"Y\": 0.4045487344264984\n",
      "                },\n",
      "                {\n",
      "                    \"Type\": \"mouthRight\",\n",
      "                    \"X\": 0.60500568151474,\n",
      "                    \"Y\": 0.4529782235622406\n",
      "                },\n",
      "                {\n",
      "                    \"Type\": \"nose\",\n",
      "                    \"X\": 0.6257889270782471,\n",
      "                    \"Y\": 0.3858109712600708\n",
      "                },\n",
      "                {\n",
      "                    \"Type\": \"leftEyeBrowLeft\",\n",
      "                    \"X\": 0.5056607127189636,\n",
      "                    \"Y\": 0.21410852670669556\n",
      "                },\n",
      "                {\n",
      "                    \"Type\": \"leftEyeBrowRight\",\n",
      "                    \"X\": 0.6260749697685242,\n",
      "                    \"Y\": 0.25202274322509766\n",
      "                },\n",
      "                {\n",
      "                    \"Type\": \"leftEyeBrowUp\",\n",
      "                    \"X\": 0.5803132057189941,\n",
      "                    \"Y\": 0.22501862049102783\n",
      "                },\n",
      "                {\n",
      "                    \"Type\": \"rightEyeBrowLeft\",\n",
      "                    \"X\": 0.7097962498664856,\n",
      "                    \"Y\": 0.286264032125473\n",
      "                },\n",
      "                {\n",
      "                    \"Type\": \"rightEyeBrowRight\",\n",
      "                    \"X\": 0.7602684497833252,\n",
      "                    \"Y\": 0.31693315505981445\n",
      "                },\n",
      "                {\n",
      "                    \"Type\": \"rightEyeBrowUp\",\n",
      "                    \"X\": 0.7491579651832581,\n",
      "                    \"Y\": 0.2937489449977875\n",
      "                },\n",
      "                {\n",
      "                    \"Type\": \"leftEyeLeft\",\n",
      "                    \"X\": 0.5247033834457397,\n",
      "                    \"Y\": 0.25820401310920715\n",
      "                },\n",
      "                {\n",
      "                    \"Type\": \"leftEyeRight\",\n",
      "                    \"X\": 0.5838273167610168,\n",
      "                    \"Y\": 0.2840481102466583\n",
      "                },\n",
      "                {\n",
      "                    \"Type\": \"leftEyeUp\",\n",
      "                    \"X\": 0.5620189309120178,\n",
      "                    \"Y\": 0.2656765580177307\n",
      "                },\n",
      "                {\n",
      "                    \"Type\": \"leftEyeDown\",\n",
      "                    \"X\": 0.5528630614280701,\n",
      "                    \"Y\": 0.27732303738594055\n",
      "                },\n",
      "                {\n",
      "                    \"Type\": \"rightEyeLeft\",\n",
      "                    \"X\": 0.6718832850456238,\n",
      "                    \"Y\": 0.31977295875549316\n",
      "                },\n",
      "                {\n",
      "                    \"Type\": \"rightEyeRight\",\n",
      "                    \"X\": 0.7228496074676514,\n",
      "                    \"Y\": 0.33799874782562256\n",
      "                },\n",
      "                {\n",
      "                    \"Type\": \"rightEyeUp\",\n",
      "                    \"X\": 0.7085951566696167,\n",
      "                    \"Y\": 0.32496219873428345\n",
      "                },\n",
      "                {\n",
      "                    \"Type\": \"rightEyeDown\",\n",
      "                    \"X\": 0.6976121664047241,\n",
      "                    \"Y\": 0.33557769656181335\n",
      "                },\n",
      "                {\n",
      "                    \"Type\": \"noseLeft\",\n",
      "                    \"X\": 0.5619111061096191,\n",
      "                    \"Y\": 0.3779192864894867\n",
      "                },\n",
      "                {\n",
      "                    \"Type\": \"noseRight\",\n",
      "                    \"X\": 0.6165062785148621,\n",
      "                    \"Y\": 0.3996537923812866\n",
      "                },\n",
      "                {\n",
      "                    \"Type\": \"mouthUp\",\n",
      "                    \"X\": 0.5726820826530457,\n",
      "                    \"Y\": 0.420387864112854\n",
      "                },\n",
      "                {\n",
      "                    \"Type\": \"mouthDown\",\n",
      "                    \"X\": 0.540939211845398,\n",
      "                    \"Y\": 0.4559323787689209\n",
      "                },\n",
      "                {\n",
      "                    \"Type\": \"leftPupil\",\n",
      "                    \"X\": 0.5563026666641235,\n",
      "                    \"Y\": 0.27136629819869995\n",
      "                },\n",
      "                {\n",
      "                    \"Type\": \"rightPupil\",\n",
      "                    \"X\": 0.7020573616027832,\n",
      "                    \"Y\": 0.330326110124588\n",
      "                },\n",
      "                {\n",
      "                    \"Type\": \"upperJawlineLeft\",\n",
      "                    \"X\": 0.4013369679450989,\n",
      "                    \"Y\": 0.21206657588481903\n",
      "                },\n",
      "                {\n",
      "                    \"Type\": \"midJawlineLeft\",\n",
      "                    \"X\": 0.3462451994419098,\n",
      "                    \"Y\": 0.3637356758117676\n",
      "                },\n",
      "                {\n",
      "                    \"Type\": \"chinBottom\",\n",
      "                    \"X\": 0.4780580699443817,\n",
      "                    \"Y\": 0.5133522748947144\n",
      "                },\n",
      "                {\n",
      "                    \"Type\": \"midJawlineRight\",\n",
      "                    \"X\": 0.607618510723114,\n",
      "                    \"Y\": 0.4682093858718872\n",
      "                },\n",
      "                {\n",
      "                    \"Type\": \"upperJawlineRight\",\n",
      "                    \"X\": 0.721647322177887,\n",
      "                    \"Y\": 0.34154441952705383\n",
      "                }\n",
      "            ],\n",
      "            \"Pose\": {\n",
      "                \"Roll\": 29.08953857421875,\n",
      "                \"Yaw\": 19.107337951660156,\n",
      "                \"Pitch\": -0.2594146728515625\n",
      "            },\n",
      "            \"Quality\": {\n",
      "                \"Brightness\": 83.21395874023438,\n",
      "                \"Sharpness\": 95.51618957519531\n",
      "            },\n",
      "            \"Confidence\": 99.99993133544922,\n",
      "            \"FaceOccluded\": {\n",
      "                \"Value\": false,\n",
      "                \"Confidence\": 99.97384643554688\n",
      "            },\n",
      "            \"EyeDirection\": {\n",
      "                \"Yaw\": -13.269232749938965,\n",
      "                \"Pitch\": -23.515596389770508,\n",
      "                \"Confidence\": 99.94905090332031\n",
      "            }\n",
      "        }\n",
      "    ]\n",
      "}\n"
     ]
    }
   ],
   "source": [
    "#Analyze Facial Attributes\n",
    "!aws rekognition detect-faces --image \"S3Object={Bucket=my-unique-images-bucket,Name=IMG_1126.jpeg}\" --attributes \"ALL\" --region ap-south-1\n"
   ]
  },
  {
   "cell_type": "code",
   "execution_count": 21,
   "metadata": {},
   "outputs": [],
   "source": [
    "# !pip install boto3 flask\n"
   ]
  },
  {
   "cell_type": "code",
   "execution_count": null,
   "metadata": {},
   "outputs": [],
   "source": []
  }
 ],
 "metadata": {
  "kernelspec": {
   "display_name": "base",
   "language": "python",
   "name": "python3"
  },
  "language_info": {
   "codemirror_mode": {
    "name": "ipython",
    "version": 3
   },
   "file_extension": ".py",
   "mimetype": "text/x-python",
   "name": "python",
   "nbconvert_exporter": "python",
   "pygments_lexer": "ipython3",
   "version": "3.11.7"
  }
 },
 "nbformat": 4,
 "nbformat_minor": 2
}
